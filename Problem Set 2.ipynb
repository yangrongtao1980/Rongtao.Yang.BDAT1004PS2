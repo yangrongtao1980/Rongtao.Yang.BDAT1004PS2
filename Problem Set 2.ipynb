{
 "cells": [
  {
   "cell_type": "markdown",
   "id": "472c3772",
   "metadata": {},
   "source": [
    "# Problem Set 2"
   ]
  },
  {
   "cell_type": "markdown",
   "id": "c62d9078",
   "metadata": {},
   "source": [
    "## Question 1"
   ]
  },
  {
   "cell_type": "code",
   "execution_count": 7,
   "id": "1864c686",
   "metadata": {},
   "outputs": [
    {
     "name": "stdout",
     "output_type": "stream",
     "text": [
      "a is 6\n"
     ]
    }
   ],
   "source": [
    "a = 0\n",
    "def b():\n",
    " global a\n",
    " a = c(a)\n",
    "def c(a):\n",
    " return a + 2\n",
    "\n",
    "b()\n",
    "b()\n",
    "b()\n",
    "print('a is {}'.format(a))"
   ]
  },
  {
   "cell_type": "markdown",
   "id": "91b12b89",
   "metadata": {},
   "source": [
    "for the fisrt b(), a is 2\n",
    "for the second b(), a is 4\n",
    "for the third b(), a is 6"
   ]
  },
  {
   "cell_type": "markdown",
   "id": "7831f7bc",
   "metadata": {},
   "source": [
    "## Question 2"
   ]
  },
  {
   "cell_type": "code",
   "execution_count": 18,
   "id": "a025cbba",
   "metadata": {},
   "outputs": [
    {
     "name": "stdout",
     "output_type": "stream",
     "text": [
      "File  midterm.py  not found.\n",
      "File  idterm.py  not found.\n"
     ]
    }
   ],
   "source": [
    "def filelength(filename):\n",
    "    try:\n",
    "        infile = open(filename)\n",
    "        contents = infile.read()\n",
    "        infile.close()\n",
    "        print(len(contents))\n",
    "    except FileNotFoundError:\n",
    "        print(\"File \", str(filename), \" not found.\")\n",
    "filelength('midterm.py')\n",
    "filelength('idterm.py')"
   ]
  },
  {
   "cell_type": "markdown",
   "id": "9886b322",
   "metadata": {},
   "source": [
    "## Question 3"
   ]
  },
  {
   "cell_type": "code",
   "execution_count": 4,
   "id": "20734f2c",
   "metadata": {},
   "outputs": [
    {
     "name": "stdout",
     "output_type": "stream",
     "text": [
      "['doll', 'firetruck', 'kitten']\n",
      "I am a Kangaroo located at coordinates (0, 0)\n",
      "['doll', 'firetruck', 'kitten']\n",
      "I am a Kangaroo located at coordinates (3, 0)\n"
     ]
    }
   ],
   "source": [
    "class Marsupial:\n",
    "    def __init__(self):\n",
    "        self.pouch = []\n",
    "        \n",
    "    def put_in_pouch(self, item):\n",
    "        self.pouch.append(item)\n",
    "        \n",
    "    def pouch_contents(self):\n",
    "        return self.pouch\n",
    "    \n",
    "class Kangaroo(Marsupial):\n",
    "    def __init__(self, x, y):\n",
    "        super().__init__()\n",
    "        self.x = x\n",
    "        self.y = y\n",
    "        \n",
    "    def jump(self, dx, dy):\n",
    "        self.x += dx\n",
    "        self.y +=dy\n",
    "        \n",
    "    def __str__(self):\n",
    "        return f\"I am a Kangaroo located at coordinates ({self.x}, {self.y})\"\n",
    "    \n",
    "m = Marsupial()\n",
    "m.put_in_pouch('doll')\n",
    "m.put_in_pouch('firetruck')\n",
    "m.put_in_pouch('kitten')\n",
    "print(m.pouch_contents())\n",
    "\n",
    "k = Kangaroo(0, 0)\n",
    "print(k)\n",
    "\n",
    "k.put_in_pouch('doll')\n",
    "k.put_in_pouch('firetruck')\n",
    "k.put_in_pouch('kitten')\n",
    "print(k.pouch_contents())\n",
    "\n",
    "k.jump(1, 0)\n",
    "k.jump(1, 0)\n",
    "k.jump(1, 0)\n",
    "print(k)\n"
   ]
  },
  {
   "cell_type": "markdown",
   "id": "dde1406f",
   "metadata": {},
   "source": [
    "## Question 4"
   ]
  },
  {
   "cell_type": "code",
   "execution_count": 6,
   "id": "9883042e",
   "metadata": {},
   "outputs": [
    {
     "name": "stdout",
     "output_type": "stream",
     "text": [
      "1\n",
      "10\n",
      "5\n",
      "16\n",
      "8\n",
      "4\n",
      "2\n",
      "1\n"
     ]
    }
   ],
   "source": [
    "def collatz(x):\n",
    "    print(x)\n",
    "    if x == 1:\n",
    "        return\n",
    "    elif x % 2 == 0:\n",
    "        collatz(x // 2)\n",
    "    else:\n",
    "        collatz(3 * x + 1)\n",
    "        \n",
    "collatz(1)\n",
    "\n",
    "collatz(10)"
   ]
  },
  {
   "cell_type": "markdown",
   "id": "dacff148",
   "metadata": {},
   "source": [
    "## Question 5"
   ]
  },
  {
   "cell_type": "code",
   "execution_count": 13,
   "id": "e85d53bd",
   "metadata": {},
   "outputs": [
    {
     "name": "stdout",
     "output_type": "stream",
     "text": [
      "0"
     ]
    }
   ],
   "source": [
    "def binary(n):\n",
    "    if n > 1:\n",
    "        binary(n // 2)\n",
    "    print(n % 2, end = '')\n",
    "    \n",
    "binary(0)"
   ]
  },
  {
   "cell_type": "code",
   "execution_count": 14,
   "id": "26d06928",
   "metadata": {},
   "outputs": [
    {
     "name": "stdout",
     "output_type": "stream",
     "text": [
      "1"
     ]
    }
   ],
   "source": [
    "def binary(n):\n",
    "    if n > 1:\n",
    "        binary(n // 2)\n",
    "    print(n % 2, end = '')\n",
    "    \n",
    "binary(1)"
   ]
  },
  {
   "cell_type": "code",
   "execution_count": 15,
   "id": "dfe7c12f",
   "metadata": {},
   "outputs": [
    {
     "name": "stdout",
     "output_type": "stream",
     "text": [
      "11"
     ]
    }
   ],
   "source": [
    "def binary(n):\n",
    "    if n > 1:\n",
    "        binary(n // 2)\n",
    "    print(n % 2, end = '')\n",
    "    \n",
    "binary(3)"
   ]
  },
  {
   "cell_type": "code",
   "execution_count": 16,
   "id": "928883cd",
   "metadata": {},
   "outputs": [
    {
     "name": "stdout",
     "output_type": "stream",
     "text": [
      "1001"
     ]
    }
   ],
   "source": [
    "def binary(n):\n",
    "    if n > 1:\n",
    "        binary(n // 2)\n",
    "    print(n % 2, end = '')\n",
    "    \n",
    "binary(9)"
   ]
  },
  {
   "cell_type": "markdown",
   "id": "76e471cb",
   "metadata": {},
   "source": [
    "## Question 6"
   ]
  },
  {
   "cell_type": "code",
   "execution_count": null,
   "id": "5e365c7c",
   "metadata": {},
   "outputs": [],
   "source": [
    "from html.parser import HTMLParser\n",
    "\n",
    "class HeadingParser(HTMLParser):\n",
    "    def __init__(self):\n",
    "        super().__init__()\n",
    "        self.heading_level = 0\n",
    "        self.heading_text = \"\"\n",
    "        \n",
    "    def handle_starttag(self, tag, attrs):\n",
    "        if tag.startswith(\"h\"):\n",
    "            self.heading_level = int(tag[1])\n",
    "            \n",
    "    def handle_endtag(self, tag):\n",
    "        if tag.startswith(\"h\"):\n",
    "            print(\"\\t\" * (self.heading_level - 1) + self.heading_text)\n",
    "            self.heading_text = \"\"\n",
    "            \n",
    "    def handle_data(self, data):\n",
    "        self.heading_text += data.strip()\n",
    "        \n",
    "infile = open('w3c.html')\n",
    "content = infile.read()\n",
    "infile.close()\n",
    "\n",
    "hp = HeadingParser()\n",
    "hp.feed(content)"
   ]
  },
  {
   "cell_type": "markdown",
   "id": "2844b01e",
   "metadata": {},
   "source": [
    "## Question 7"
   ]
  },
  {
   "cell_type": "code",
   "execution_count": 3,
   "id": "546d0bbe",
   "metadata": {},
   "outputs": [],
   "source": [
    "import requests\n",
    "\n",
    "def webdir(url, depth, indent):\n",
    "    if depth < 0:\n",
    "        return\n",
    "    try:\n",
    "        response = requests.get(url)\n",
    "        if response.status_code == 200:\n",
    "            print(\" \" * indent + url)\n",
    "            content = response.text\n",
    "            links = extract_links(content)\n",
    "            for link in links:\n",
    "                webdir(link, depth - 1, indent + 1)\n",
    "    except requests.exceptions.RequestException as e:\n",
    "        print(\"Error accessing URL:\", url)\n",
    "        print(e)\n",
    "        \n",
    "def extract_links(content):\n",
    "    import re\n",
    "    pattern = r'(?:href=\")(.*?)(?=\")'\n",
    "    return re.findall(pattern, content)\n",
    "\n",
    "webdir('http://reed.cs.depaul.edu/lperkovic/csc242/test1.html', 2, 0)"
   ]
  },
  {
   "cell_type": "markdown",
   "id": "11313ded",
   "metadata": {},
   "source": [
    "## Question 8"
   ]
  },
  {
   "cell_type": "code",
   "execution_count": 16,
   "id": "c9be18af",
   "metadata": {},
   "outputs": [
    {
     "name": "stdout",
     "output_type": "stream",
     "text": [
      "Requirement already satisfied: ipython-sql in c:\\users\\yangr\\anaconda3\\lib\\site-packages (0.5.0)\n",
      "Requirement already satisfied: prettytable in c:\\users\\yangr\\anaconda3\\lib\\site-packages (from ipython-sql) (3.8.0)\n",
      "Requirement already satisfied: sqlparse in c:\\users\\yangr\\anaconda3\\lib\\site-packages (from ipython-sql) (0.4.4)\n",
      "Requirement already satisfied: ipython in c:\\users\\yangr\\anaconda3\\lib\\site-packages (from ipython-sql) (8.10.0)\n",
      "Requirement already satisfied: ipython-genutils in c:\\users\\yangr\\anaconda3\\lib\\site-packages (from ipython-sql) (0.2.0)\n",
      "Requirement already satisfied: six in c:\\users\\yangr\\anaconda3\\lib\\site-packages (from ipython-sql) (1.16.0)\n",
      "Requirement already satisfied: sqlalchemy>=2.0 in c:\\users\\yangr\\anaconda3\\lib\\site-packages (from ipython-sql) (2.0.16)\n",
      "Requirement already satisfied: typing-extensions>=4.2.0 in c:\\users\\yangr\\anaconda3\\lib\\site-packages (from sqlalchemy>=2.0->ipython-sql) (4.4.0)\n",
      "Requirement already satisfied: greenlet!=0.4.17 in c:\\users\\yangr\\anaconda3\\lib\\site-packages (from sqlalchemy>=2.0->ipython-sql) (2.0.1)\n",
      "Requirement already satisfied: prompt-toolkit<3.1.0,>=3.0.30 in c:\\users\\yangr\\anaconda3\\lib\\site-packages (from ipython->ipython-sql) (3.0.36)\n",
      "Requirement already satisfied: pickleshare in c:\\users\\yangr\\anaconda3\\lib\\site-packages (from ipython->ipython-sql) (0.7.5)\n",
      "Requirement already satisfied: colorama in c:\\users\\yangr\\anaconda3\\lib\\site-packages (from ipython->ipython-sql) (0.4.6)\n",
      "Requirement already satisfied: traitlets>=5 in c:\\users\\yangr\\anaconda3\\lib\\site-packages (from ipython->ipython-sql) (5.7.1)\n",
      "Requirement already satisfied: stack-data in c:\\users\\yangr\\anaconda3\\lib\\site-packages (from ipython->ipython-sql) (0.2.0)\n",
      "Requirement already satisfied: matplotlib-inline in c:\\users\\yangr\\anaconda3\\lib\\site-packages (from ipython->ipython-sql) (0.1.6)\n",
      "Requirement already satisfied: backcall in c:\\users\\yangr\\anaconda3\\lib\\site-packages (from ipython->ipython-sql) (0.2.0)\n",
      "Requirement already satisfied: jedi>=0.16 in c:\\users\\yangr\\anaconda3\\lib\\site-packages (from ipython->ipython-sql) (0.18.1)\n",
      "Requirement already satisfied: pygments>=2.4.0 in c:\\users\\yangr\\anaconda3\\lib\\site-packages (from ipython->ipython-sql) (2.11.2)\n",
      "Requirement already satisfied: decorator in c:\\users\\yangr\\anaconda3\\lib\\site-packages (from ipython->ipython-sql) (5.1.1)\n",
      "Requirement already satisfied: wcwidth in c:\\users\\yangr\\anaconda3\\lib\\site-packages (from prettytable->ipython-sql) (0.2.5)\n",
      "Requirement already satisfied: parso<0.9.0,>=0.8.0 in c:\\users\\yangr\\anaconda3\\lib\\site-packages (from jedi>=0.16->ipython->ipython-sql) (0.8.3)\n",
      "Requirement already satisfied: executing in c:\\users\\yangr\\anaconda3\\lib\\site-packages (from stack-data->ipython->ipython-sql) (0.8.3)\n",
      "Requirement already satisfied: asttokens in c:\\users\\yangr\\anaconda3\\lib\\site-packages (from stack-data->ipython->ipython-sql) (2.0.5)\n",
      "Requirement already satisfied: pure-eval in c:\\users\\yangr\\anaconda3\\lib\\site-packages (from stack-data->ipython->ipython-sql) (0.2.2)\n"
     ]
    }
   ],
   "source": [
    "!pip install ipython-sql"
   ]
  },
  {
   "cell_type": "markdown",
   "id": "3f42778f",
   "metadata": {},
   "source": [
    "Table\n",
    "City \tCountry \tSeason \tTemperature ©\t Rainfall (mm)\n",
    "Mumbai\tIndia\tWinter\t24.8\t5.9\n",
    "Mumbai\tIndia\tSpring\t28.4\t16.2\n",
    "Mumbai\tIndia\tSummer\t27.9\t1549.4\n",
    "Mumbai\tIndia\tFall\t27.6\t346.0\n",
    "London\tUnited Kingdom\tWinter\t4.2\t207.7\n",
    "London\tUnited Kingdom\tSpring\t8.3\t169.6\n",
    "London\tUnited Kingdom\tSummer\t15.7\t157.0\n",
    "London\tUnited Kingdom\tFall\t10.4\t218.5\n",
    "Cairo \tEgypt\tWinter\t13.6\t16.5\n",
    "Cairo \tEgypt\tSpring\t20.7\t6.5\n",
    "Cairo \tEgypt\tSummer\t27.7\t0.1\n",
    "Cairo \tEgypt\tFall\t22.2\t4.5\n"
   ]
  },
  {
   "cell_type": "code",
   "execution_count": null,
   "id": "9ffe0bd3",
   "metadata": {},
   "outputs": [],
   "source": [
    "%%sql\n",
    "SELECT Temperature FROM table;"
   ]
  },
  {
   "cell_type": "code",
   "execution_count": null,
   "id": "f48e85e9",
   "metadata": {},
   "outputs": [],
   "source": [
    "%%sql\n",
    "SELECT DISTINCT City FROM table;"
   ]
  },
  {
   "cell_type": "code",
   "execution_count": null,
   "id": "7211c02d",
   "metadata": {},
   "outputs": [],
   "source": [
    "%%sql\n",
    "SELECT * FROM table WHERE Country = 'India';"
   ]
  },
  {
   "cell_type": "code",
   "execution_count": null,
   "id": "2d8108a6",
   "metadata": {},
   "outputs": [],
   "source": [
    "%%sql\n",
    "SELECT * FROM table WHERE Season = 'Fall';"
   ]
  },
  {
   "cell_type": "code",
   "execution_count": null,
   "id": "2d092c69",
   "metadata": {},
   "outputs": [],
   "source": [
    "%%sql\n",
    "SELECT City, Country, Season FROM table \n",
    "WHERE Rainfall BETWEEN 200 AND 400;"
   ]
  },
  {
   "cell_type": "code",
   "execution_count": null,
   "id": "4d38de4a",
   "metadata": {},
   "outputs": [],
   "source": [
    "%%sql\n",
    "SELECT City, Country FROM table \n",
    "WHERE Season = Fall AND Temperature > 20 \n",
    "ORDER BY Temperature ASC;"
   ]
  },
  {
   "cell_type": "code",
   "execution_count": null,
   "id": "8dd6f734",
   "metadata": {},
   "outputs": [],
   "source": [
    "%%sql\n",
    "SELECT SUM(Rainfall) AS Total_Rainfall FROM table \n",
    "WHERE City = 'Cario';"
   ]
  },
  {
   "cell_type": "code",
   "execution_count": null,
   "id": "d3bc1567",
   "metadata": {},
   "outputs": [],
   "source": [
    "%%sql\n",
    "SELECT Season, SUM(Rainfall) AS Total_Rainfall FROM table \n",
    "GROUP BY Season;"
   ]
  },
  {
   "cell_type": "markdown",
   "id": "81ae5bc6",
   "metadata": {},
   "source": [
    "## Question 9"
   ]
  },
  {
   "cell_type": "code",
   "execution_count": 12,
   "id": "f5cf427f",
   "metadata": {},
   "outputs": [
    {
     "name": "stdout",
     "output_type": "stream",
     "text": [
      "['THE', 'QUICK', 'BROWN', 'FOX', 'JUMPS', 'OVER', 'THE', 'LAZY', 'DOG']\n",
      "['the', 'quick', 'brown', 'fox', 'jumps', 'over', 'the', 'lazy', 'dog']\n",
      "[3, 5, 5, 3, 5, 4, 3, 4, 3]\n",
      "[['THE', 'the', 3], ['QUICK', 'quick', 5], ['BROWN', 'brown', 5], ['FOX', 'fox', 3], ['JUMPS', 'jumps', 5], ['OVER', 'over', 4], ['THE', 'the', 3], ['LAZY', 'lazy', 4], ['DOG', 'dog', 3]]\n",
      "['quick', 'brown', 'jumps', 'over', 'lazy']\n"
     ]
    }
   ],
   "source": [
    "words = ['The', 'quick', 'brown', 'fox', 'jumps', 'over', 'the', 'lazy', 'dog']\n",
    "print([word.upper() for word in words])\n",
    "print([word.lower() for word in words])\n",
    "print([len(word) for word in words])\n",
    "print([[word.upper(), word.lower(), len(word)] for word in words])\n",
    "print([word for word in words if len(word) >= 4])"
   ]
  },
  {
   "cell_type": "code",
   "execution_count": null,
   "id": "6632f55f",
   "metadata": {},
   "outputs": [],
   "source": []
  }
 ],
 "metadata": {
  "kernelspec": {
   "display_name": "Python 3 (ipykernel)",
   "language": "python",
   "name": "python3"
  },
  "language_info": {
   "codemirror_mode": {
    "name": "ipython",
    "version": 3
   },
   "file_extension": ".py",
   "mimetype": "text/x-python",
   "name": "python",
   "nbconvert_exporter": "python",
   "pygments_lexer": "ipython3",
   "version": "3.10.9"
  }
 },
 "nbformat": 4,
 "nbformat_minor": 5
}
